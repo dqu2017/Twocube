{
 "cells": [
  {
   "cell_type": "markdown",
   "id": "aerial-addition",
   "metadata": {
    "tags": []
   },
   "source": [
    "## Difine functions"
   ]
  },
  {
   "cell_type": "markdown",
   "id": "marked-timer",
   "metadata": {
    "tags": []
   },
   "source": [
    "Define some parameters and generators"
   ]
  },
  {
   "cell_type": "code",
   "execution_count": 5,
   "id": "cognitive-basin",
   "metadata": {},
   "outputs": [],
   "source": [
    "sigma4 = Join[{IdentityMatrix[2]}, Table[PauliMatrix[i], {i, 1, 3}]];\n",
    "sigmabar4 = Join[{IdentityMatrix[2]}, -Table[PauliMatrix[i], {i, 1, 3}]];\n",
    "su11sigma = {PauliMatrix[3], I PauliMatrix[1], I PauliMatrix[2]};"
   ]
  },
  {
   "cell_type": "code",
   "execution_count": 8,
   "id": "infrared-produce",
   "metadata": {},
   "outputs": [],
   "source": [
    "Jvec = {{{0, 1, 0, 0}, {1, 0, 0, 0}, {0, 0, 0, 0}, {0, 0, 0, 0}}, {{0,\n",
    "      0, 1, 0}, {0, 0, 0, 0}, {1, 0, 0, 0}, {0, 0, 0, 0}}, {{0, 0, 0, \n",
    "     1}, {0, 0, 0, 0}, {0, 0, 0, 0}, {1, 0, 0, \n",
    "     0}}, -{{0, 0, 0, 0}, {0, 0, 0, 0}, {0, 0, 0, -1}, {0, 0, 1, \n",
    "      0}}, -{{0, 0, 0, 0}, {0, 0, 0, 1}, {0, 0, 0, 0}, {0, -1, 0, \n",
    "      0}}, {{0, 0, 0, 0}, {0, 0, 1, 0}, {0, -1, 0, 0}, {0, 0, 0, 0}}};"
   ]
  },
  {
   "cell_type": "code",
   "execution_count": 9,
   "id": "coordinated-value",
   "metadata": {},
   "outputs": [],
   "source": [
    "jjvec = Join[1/2 Table[PauliMatrix[i], {i, 1, 3}], I/2 Table[PauliMatrix[i], {i, 1, 3}]];"
   ]
  },
  {
   "cell_type": "code",
   "execution_count": 10,
   "id": "medieval-prediction",
   "metadata": {},
   "outputs": [],
   "source": [
    "η = DiagonalMatrix[{-1, 1, 1, 1}];"
   ]
  },
  {
   "cell_type": "code",
   "execution_count": 11,
   "id": "governmental-migration",
   "metadata": {},
   "outputs": [],
   "source": [
    "edgeor = Subsets[#, {2}] & /@ Subsets[{1, 2, 3, 4, 5}, {4}];\n",
    "faceor = Subsets[#, {3}] & /@ Subsets[{1, 2, 3, 4, 5}, {4}];"
   ]
  },
  {
   "cell_type": "code",
   "execution_count": 13,
   "id": "ranking-portuguese",
   "metadata": {},
   "outputs": [],
   "source": [
    "etof = {{1, 2}, {1, 3}, {2, 3}, {4, 5}};\n",
    "tetorder = Table[j, {j, 5, 1, -1}];\n",
    "edgefromfaceor = Table[Subsets[#, {2}] & /@ faceor[[i]], {i, 1, 5}];\n",
    "edgefromfaceornum = Table[Position[edgeor[[i]], #] & /@ edgefromfaceor[[i, j]]//Flatten, {i, 1, 5}, {j, 1, 4}];"
   ]
  },
  {
   "cell_type": "markdown",
   "id": "personal-courage",
   "metadata": {},
   "source": [
    "Define functions"
   ]
  },
  {
   "cell_type": "code",
   "execution_count": 17,
   "id": "separated-matter",
   "metadata": {},
   "outputs": [],
   "source": [
    "normso13[aa_, bb_] := aa . η . bb"
   ]
  },
  {
   "cell_type": "code",
   "execution_count": 18,
   "id": "renewable-venture",
   "metadata": {},
   "outputs": [],
   "source": [
    "gettetnormalvec[edgetet_] := Block[{a, b, c, d},\n",
    "  FullSimplify[{a, b, c, d}/\n",
    "    Sqrt[Abs[normso13[{a, b, c, d}, {a, b, c, d}]]] /. \n",
    "     Solve[\n",
    "      Thread[({a, b, c, d} . DiagonalMatrix[{-1, 1, 1, 1}] . # & /@ \n",
    "          edgetet[[1 ;; 3]]) == 0], {a, b, c, d}] // Flatten, \n",
    "   Join[{a > 0, b > 0, c > 0, d > 0}, \n",
    "    Thread[{a, b, c, d} ϵ Reals]]]\n",
    "  ]"
   ]
  },
  {
   "cell_type": "code",
   "execution_count": 19,
   "id": "little-sociology",
   "metadata": {},
   "outputs": [],
   "source": [
    "gettetoutnormalvec1[edgetetall_, bdypoint_] := \n",
    " Block[{unsignnormalvec$111 = gettetnormalvec /@ edgetetall},\n",
    "  Table[If[\n",
    "    unsignnormalvec$111[[i]] . η . unsignnormalvec$111[[i]] > 0, \n",
    "    unsignnormalvec$111[[i]] Sign[\n",
    "      unsignnormalvec$111[[\n",
    "         i]] . (bdypoint[[tetorder[[i]]]] - \n",
    "          bdypoint[[edgeor[[i, 1, 1]]]]) // N], \n",
    "    Sign[unsignnormalvec$111[[i, 1]] // N] unsignnormalvec$111[[\n",
    "      i]]], {i, Length[unsignnormalvec$111]}]\n",
    "  ]"
   ]
  },
  {
   "cell_type": "code",
   "execution_count": 20,
   "id": "daily-highlight",
   "metadata": {},
   "outputs": [],
   "source": [
    "vectospinor[aa_] := {{aa[[1]] + aa[[4]], aa[[2]] - I aa[[3]]}, {aa[[2]] + I aa[[3]], aa[[1]] - aa[[4]]}}"
   ]
  },
  {
   "cell_type": "code",
   "execution_count": 21,
   "id": "forced-lloyd",
   "metadata": {},
   "outputs": [],
   "source": [
    "getreim[ff_, assume_] := Simplify[({Re[#], Im[#]} & @ ff // ExpandAll // FunctionExpand), Assumptions -> assume]"
   ]
  },
  {
   "cell_type": "code",
   "execution_count": 22,
   "id": "realistic-american",
   "metadata": {},
   "outputs": [],
   "source": [
    "getsl2c[n1_, n2_] := \n",
    " Block[{sn2 = vectospinor[n2], sn1 = vectospinor[n1], ggi, soleqggisn,\n",
    "    ggire, a1, a2, b1, b2, c1, c2, d1, d2, eqggisn, symbolsoleqggisn, \n",
    "   symbolinstancesoleqggisn},\n",
    "  ggi = FullSimplify[{{a1 + I a2 , b1 + I b2}, {c1 + I c2, d1 + I d2}} . sn1 . \n",
    "  ConjugateTranspose[{{a1 + I a2 , b1 + I b2}, {c1 + I c2, d1 + I d2}}], {a1, a2, b1, b2, c1, c2, d1, d2} ∈ Reals]; \n",
    "  eqggisn = \n",
    "   DeleteCases[\n",
    "    Thread[(getreim[\n",
    "          ggi, {a1, a2, b1, b2, c1, c2, d1, d2} ∈ Reals] - \n",
    "         getreim[\n",
    "          sn2, {a1, a2, b1, b2, c1, c2, d1, d2} ∈ Reals] // \n",
    "        Flatten) == 0], True];\n",
    "  soleqggisn = \n",
    "   Solve[\n",
    "     Join[\n",
    "      eqggisn, {Det[{{a1 + I a2 , b1 + I b2}, {c1 + I c2, \n",
    "           d1 + I d2}}] == 1}], {a1, a2, b1, b2, c1, c2, d1, d2}][[1]];\n",
    "  symbolsoleqggisn = \n",
    "   DeleteDuplicates@\n",
    "    Cases[{a1, a2, b1, b2, c1, c2, d1, d2} /. soleqggisn, _Symbol, -1];\n",
    "  symbolinstancesoleqggisn = \n",
    "   FindInstance[\n",
    "     Thread[\n",
    "      DeleteDuplicates@Cases[soleqggisn, Sqrt[xx_] -> xx, -1] > 0], \n",
    "     symbolsoleqggisn, Reals][[1]];\n",
    "  ggire = {{a1 + I a2 , b1 + I b2}, {c1 + I c2, d1 + I d2}} /. \n",
    "     soleqggisn /. symbolinstancesoleqggisn]"
   ]
  },
  {
   "cell_type": "code",
   "execution_count": 23,
   "id": "ranging-texture",
   "metadata": {},
   "outputs": [],
   "source": [
    "getsl2c[nn_] := \n",
    " Block[{lsign$111 = Round[normso13[#, #]] & @ nn}, \n",
    "  If[lsign$111 === (normso13[#, #] & @ ({1, 0, 0, 0})), \n",
    "   getsl2c[{1, 0, 0, 0}, nn], \n",
    "   If[lsign$111 === (normso13[#, #] & @ ({0, 0, 0, 1})), \n",
    "    getsl2c[{0, 0, 0, 1}, nn]]]]"
   ]
  },
  {
   "cell_type": "code",
   "execution_count": 24,
   "id": "absent-financing",
   "metadata": {},
   "outputs": [],
   "source": [
    "getso13[sl2cg_] := \n",
    " Table[1/2 Tr[\n",
    "    sl2cg . sigmabar4[[i]] . ConjugateTranspose[sl2cg] . \n",
    "     sigmabar4[[j]]], {i, 1, 4}, {j, 1, 4}]"
   ]
  },
  {
   "cell_type": "code",
   "execution_count": 25,
   "id": "comic-shadow",
   "metadata": {},
   "outputs": [],
   "source": [
    "get3dtet[tetlenthvec_, tetsol13_] := \n",
    " Block[{tet3dvec$111, zeropos}, \n",
    "  tet3dvec$111 = FullSimplify[tetsol13 . # & /@ tetlenthvec]; \n",
    "  zeropos = Position[Chop@Total[Abs[tet3dvec$111 // N]], 0][[1]]; \n",
    "  If[Length[zeropos] === 1, {Drop[#, zeropos] & /@ tet3dvec$111, \n",
    "    zeropos}, tet3dvec$111]]"
   ]
  },
  {
   "cell_type": "code",
   "execution_count": 26,
   "id": "joined-killing",
   "metadata": {},
   "outputs": [],
   "source": [
    "getfacevec[{tetedgevec_, normali_}] := \n",
    " Block[{meta$111 = \n",
    "    Drop[η, {normali} // Flatten, {normali} // \n",
    "      Flatten]}, {1/2 Cross[meta$111 . tetedgevec[[#[[1]]]], \n",
    "       meta$111 . tetedgevec[[#[[2]]]]] & /@ etof, meta$111}]"
   ]
  },
  {
   "cell_type": "code",
   "execution_count": 27,
   "id": "brutal-istanbul",
   "metadata": {},
   "outputs": [],
   "source": [
    "getoutpfacevec[{tetedgevec_, normali_}] := \n",
    " Block[{rrr$111 = getfacevec[{tetedgevec, normali}], nvec$111, \n",
    "   meta$111}, nvec$111 = rrr$111[[1]]; \n",
    "  meta$111 = \n",
    "   rrr$111[[\n",
    "    2]]; {(Sign /@ (Table[{tetedgevec[[3]], tetedgevec[[2]], \n",
    "            tetedgevec[[1]], -tetedgevec[[1]]}[[i]] . meta$111 . \n",
    "          nvec$111[[i]], {i, Length[nvec$111]}] // N)) nvec$111, \n",
    "   meta$111}]"
   ]
  },
  {
   "cell_type": "code",
   "execution_count": 28,
   "id": "surrounded-preserve",
   "metadata": {},
   "outputs": [],
   "source": [
    "getfacenormal[{facevec_, meta_}] := #/Sqrt[Abs[(# . meta . # )]] & /@ facevec"
   ]
  },
  {
   "cell_type": "code",
   "execution_count": 29,
   "id": "fresh-columbia",
   "metadata": {},
   "outputs": [],
   "source": [
    "getarea[{facevec_, meta_}] := Sqrt[Abs[(# . meta . # )]] & /@ facevec"
   ]
  },
  {
   "cell_type": "code",
   "execution_count": 30,
   "id": "precise-montana",
   "metadata": {},
   "outputs": [],
   "source": [
    "threetofour[n_, sgndet1_] := If[sgndet1 > 0, Join[{0}, n], Join[n, {0}]]"
   ]
  },
  {
   "cell_type": "code",
   "execution_count": 31,
   "id": "boring-conflict",
   "metadata": {},
   "outputs": [],
   "source": [
    "getbivec[n1_, n2_] := 1/2 Table[Sum[LeviCivitaTensor[4][[i, j, k, l]] (η . n1)[[k]] (η . n2)[[l]], {k, 1, 4}, {l, 1, 4}], {i, 1, 4}, {j, 1, 4}] . η"
   ]
  },
  {
   "cell_type": "code",
   "execution_count": 32,
   "id": "canadian-decade",
   "metadata": {},
   "outputs": [],
   "source": [
    "bivec1tohalf[bivec_] := \n",
    " Total[ 1/2 Join[\n",
    "    Table[\n",
    "     Tr[bivec . Jvec[[i]]], {i, 1, 3}], -Table[\n",
    "      Tr[bivec . Jvec[[i]]], {i, 4, 6}]]*jjvec]"
   ]
  },
  {
   "cell_type": "code",
   "execution_count": 33,
   "id": "indirect-inspector",
   "metadata": {},
   "outputs": [],
   "source": [
    "Off[Solve::svars]\n",
    "Off[Solve::ratnz]\n",
    "\n",
    "eqssu2 = \n",
    "  DeleteCases[\n",
    "   DeleteDuplicates[\n",
    "    Thread[(FullSimplify[{Re[#], Im[#]} & /@ \n",
    "           ExpandAll[\n",
    "            Join[\n",
    "               Flatten[(({{a$eqt, b$eqt}, {-Conjugate[b$eqt], \n",
    "                    Conjugate[a$eqt]}} . PauliMatrix[3] . \n",
    "                    Inverse[{{a$eqt, b$eqt}, {-Conjugate[b$eqt], \n",
    "                    Conjugate[a$eqt]}}] - \n",
    "                    Total[{ee$eqt, ff$eqt, gg$eqt}*\n",
    "                    Table[PauliMatrix[i], {i, 1, 3}]] /. \n",
    "                   a$eqt Conjugate[a$eqt] + b$eqt Conjugate[b$eqt] -> \n",
    "                    1))], {a$eqt Conjugate[a$eqt] + \n",
    "                 b$eqt Conjugate[b$eqt] - 1}] /. \n",
    "              a$eqt -> aa1$eqt + I aa2$eqt /. \n",
    "             b$eqt -> bb1$eqt + I bb2$eqt], {aa1$eqt, aa2$eqt, \n",
    "            bb1$eqt, bb2$eqt, ee$eqt, ff$eqt, gg$eqt} ∈ \n",
    "           Reals] // Flatten) == 0] // FullSimplify], True];\n",
    "\n",
    "soleqssu2$eqs = (Solve[\n",
    "        eqssu2[[1 ;; 3]], {aa1$eqt, aa2$eqt, bb1$eqt, bb2$eqt}] /. \n",
    "       ee$eqt^2 + ff$eqt^2 + gg$eqt^2 -> 1 // FullSimplify) //. \n",
    "    ff$eqt^2 -> 1 - ee$eqt^2 - gg$eqt^2 // FullSimplify;\n",
    "\n",
    "soleqssu2 = \n",
    "  soleqssu2$eqs[[\n",
    "   Position[\n",
    "     Total[\n",
    "      Transpose@\n",
    "       Boole[(eqssu2 /. soleqssu2$eqs //. \n",
    "             ff$eqt^2 -> 1 - ee$eqt^2 - gg$eqt^2 // FullSimplify) //. \n",
    "          ff$eqt^2 -> 1 - ee$eqt^2 - gg$eqt^2 // FullSimplify], 1], \n",
    "     Length[eqssu2]][[1, 1]]]];\n",
    "\n",
    "soleqssu2$aa1 = \n",
    "  Solve[Cases[soleqssu2[[1]], Sqrt[xx$eqt_] -> xx$eqt, -1] == 0, \n",
    "    aa1$eqt][[-1]];\n",
    "\n",
    "soleqssu2ta = \n",
    "  If[(aa1$eqt /. soleqssu2$aa1) ∈ Reals, \n",
    "   Evaluate[Join[soleqssu2$aa1, soleqssu2 /. soleqssu2$aa1]], \n",
    "   Evaluate[Join[{aa1$eqt -> 0}, soleqssu2 /. aa1$eqt -> 0]]];\n",
    "\n",
    "getsu2frombivec[bivec_, sola_ : True] := \n",
    " Module[{aaa = \n",
    "     Thread[{ee$eqt, ff$eqt, gg$eqt} -> \n",
    "       Re[Tr[bivec . #] & /@ Table[PauliMatrix[i], {i, 1, 3}] ]]},\n",
    "   If[(gg$eqt /. aaa) === -1, I*PauliMatrix[2],\n",
    "    {{aa1$eqt + I aa2$eqt, \n",
    "       bb1$eqt + I bb2$eqt}, {-bb1$eqt + I bb2$eqt, \n",
    "       aa1$eqt - I aa2$eqt}} /. (If[sola, soleqssu2ta, soleqssu2] /. \n",
    "       Thread[{ee$eqt, ff$eqt, gg$eqt} -> \n",
    "         Re[\n",
    "          Tr[bivec . #] & /@ Table[PauliMatrix[i], {i, 1, 3}] ]])]] //\n",
    "   FullSimplify"
   ]
  },
  {
   "cell_type": "code",
   "execution_count": 41,
   "id": "printable-substitute",
   "metadata": {},
   "outputs": [],
   "source": [
    "eqtsu11 = \n",
    "  DeleteCases[\n",
    "   DeleteDuplicates[\n",
    "    Thread[(FullSimplify[{Re[#], Im[#]} & /@ \n",
    "           ExpandAll[\n",
    "            Join[\n",
    "               Flatten[((I {{a$eqt, b$eqt}, {Conjugate[b$eqt], \n",
    "                    Conjugate[a$eqt]}} . PauliMatrix[1] . \n",
    "                    Inverse[{{a$eqt, b$eqt}, {Conjugate[b$eqt], \n",
    "                    Conjugate[a$eqt]}}] - \n",
    "                    Total[{ee$eqt, ff$eqt, gg$eqt}*su11sigma] /. \n",
    "                   a$eqt Conjugate[a$eqt] - b$eqt Conjugate[b$eqt] -> \n",
    "                    1))], {a$eqt Conjugate[a$eqt] - \n",
    "                 b$eqt Conjugate[b$eqt] - 1}] /. \n",
    "              a$eqt -> aa1$eqt + I aa2$eqt /. \n",
    "             b$eqt -> bb1$eqt + I bb2$eqt], {aa1$eqt, aa2$eqt, \n",
    "            bb1$eqt, bb2$eqt, ee$eqt, ff$eqt, gg$eqt} \\[Element] \n",
    "           Reals] // Flatten) == 0] // FullSimplify], True];\n",
    "\n",
    "eqssu11 = \n",
    "  DeleteCases[\n",
    "   DeleteDuplicates[\n",
    "    Thread[(FullSimplify[{Re[#], Im[#]} & /@ \n",
    "           ExpandAll[\n",
    "            Join[\n",
    "               Flatten[(({{a$eqt, b$eqt}, {Conjugate[b$eqt], \n",
    "                    Conjugate[a$eqt]}} . su11sigma[[1]] . \n",
    "                    Inverse[{{a$eqt, b$eqt}, {Conjugate[b$eqt], \n",
    "                    Conjugate[a$eqt]}}] - \n",
    "                    Total[{ee$eqt, ff$eqt, gg$eqt}*su11sigma] /. \n",
    "                   a$eqt Conjugate[a$eqt] - b$eqt Conjugate[b$eqt] -> \n",
    "                    1))], {a$eqt Conjugate[a$eqt] - \n",
    "                 b$eqt Conjugate[b$eqt] - 1}] /. \n",
    "              a$eqt -> aa1$eqt + I aa2$eqt /. \n",
    "             b$eqt -> bb1$eqt + I bb2$eqt], {aa1$eqt, aa2$eqt, \n",
    "            bb1$eqt, bb2$eqt, ee$eqt, ff$eqt, gg$eqt} \\[Element] \n",
    "           Reals] // Flatten) == 0] // FullSimplify], True];\n",
    "\n",
    "soleqtsu11$eqs = (Solve[\n",
    "        eqtsu11[[1 ;; 3]], {aa1$eqt, aa2$eqt, bb1$eqt, bb2$eqt}] //. \n",
    "       ee$eqt^2 -> ff$eqt^2 + gg$eqt^2 - 1 // FullSimplify) //. \n",
    "    ee$eqt^2 -> ff$eqt^2 + gg$eqt^2 - 1 // FullSimplify;\n",
    "\n",
    "soleqtsu11 = \n",
    "  soleqtsu11$eqs[[\n",
    "   Position[\n",
    "     Total[\n",
    "      Transpose@\n",
    "       Boole[(eqtsu11 /. soleqtsu11$eqs //. \n",
    "             ee$eqt^2 -> ff$eqt^2 + gg$eqt^2 - 1 // FullSimplify) //. \n",
    "          ee$eqt^2 -> ff$eqt^2 + gg$eqt^2 - 1 // FullSimplify], 1], \n",
    "     Length[eqssu11]][[2, 1]]]];\n",
    "\n",
    "soleqtsu11$aa1 = \n",
    "  Solve[Cases[soleqtsu11[[1]], Sqrt[xx$eqt_] -> xx$eqt, -1] == 0, \n",
    "    aa1$eqt][[-1]];\n",
    "\n",
    "soleqtsu11ta = \n",
    "  If[(aa1$eqt /. soleqtsu11$aa1) \\[Element] Reals, \n",
    "   Evaluate[Join[soleqtsu11$aa1, soleqtsu11 /. soleqtsu11$aa1]], \n",
    "   Evaluate[Join[{aa1$eqt -> 0}, soleqtsu11 /. aa1$eqt -> 0]]];\n",
    "\n",
    "soleqssu11$eqs = (Solve[\n",
    "        eqssu11[[1 ;; 3]], {aa1$eqt, aa2$eqt, bb1$eqt, bb2$eqt}] //. \n",
    "       ff$eqt^2 -> ee$eqt^2 - gg$eqt^2 - 1 // FullSimplify) //. \n",
    "    ff$eqt^2 -> ee$eqt^2 - gg$eqt^2 - 1 // FullSimplify;\n",
    "\n",
    "soleqssu11 = \n",
    "  soleqssu11$eqs[[\n",
    "   Position[\n",
    "     Total[\n",
    "      Transpose@\n",
    "       Boole[(eqssu11 /. soleqssu11$eqs //. \n",
    "             ff$eqt^2 -> ee$eqt^2 - gg$eqt^2 - 1 // FullSimplify) //. \n",
    "          ff$eqt^2 -> ee$eqt^2 - gg$eqt^2 - 1 // FullSimplify], 1], \n",
    "     Length[eqssu11]][[1, 1]]]];\n",
    "\n",
    "soleqssu11$aa1 = \n",
    "  Solve[Cases[soleqssu11[[1]], Sqrt[xx$eqt_] -> xx$eqt, -1] == 0, \n",
    "    aa1$eqt][[-1]];\n",
    "\n",
    "soleqssu11ta = \n",
    "  If[(aa1$eqt /. soleqssu11$aa1) \\[Element] Reals, \n",
    "   Evaluate[Join[soleqssu11$aa1, soleqssu11 /. soleqssu11$aa1]], \n",
    "   Evaluate[Join[{aa1$eqt -> 0}, soleqssu11 /. aa1$eqt -> 0]]];\n",
    "\n",
    "getsu11frombivecm[bivec_, sola_ : True] := \n",
    " Block[{soleqs, soleqt, aaa}, \n",
    "   If[sola, soleqs = soleqssu11ta; soleqt = soleqtsu11ta;, \n",
    "    soleqs = soleqssu11, soleqt = soleqtsu11]; \n",
    "   If[Sign[Re[Tr[bivec . bivec]]] >= 0, \n",
    "    If[Re[Tr[bivec . su11sigma[[1]]]]*\n",
    "       Tr[su11sigma[[1]] . su11sigma[[1]]] > \n",
    "      0, {{aa1$eqt + I aa2$eqt, \n",
    "        bb1$eqt + I bb2$eqt}, {bb1$eqt - I bb2$eqt, \n",
    "        aa1$eqt - I aa2$eqt}} /. (soleqs /. \n",
    "        Thread[{ee$eqt, ff$eqt, gg$eqt} -> \n",
    "          1/2 Re[Tr[# . #] & /@ su11sigma ]*\n",
    "           Re[Tr[bivec . #] & /@ su11sigma ]]), {{aa1$eqt + I aa2$eqt,\n",
    "         bb1$eqt + I bb2$eqt}, {bb1$eqt - I bb2$eqt, \n",
    "        aa1$eqt - I aa2$eqt}} /. (soleqs /. \n",
    "        Thread[{ee$eqt, ff$eqt, \n",
    "           gg$eqt} -> -1/2 Re[Tr[# . #] & /@ su11sigma ]*\n",
    "           Re[Tr[bivec . #] & /@ su11sigma ]])], \n",
    "    aaa = \n",
    "     Thread[{ee$eqt, ff$eqt, gg$eqt} -> \n",
    "       1/2 Re[Tr[# . #] & /@ su11sigma ] Re[\n",
    "         Tr[bivec . #] & /@ su11sigma ]]; \n",
    "    If[(ff$eqt /. aaa) === -1, \n",
    "     I*PauliMatrix[\n",
    "       3], {{aa1$eqt + I aa2$eqt, \n",
    "        bb1$eqt + I bb2$eqt}, {bb1$eqt - I bb2$eqt, \n",
    "        aa1$eqt - I aa2$eqt}} /. (soleqt /. aaa)]]] // FullSimplify"
   ]
  },
  {
   "cell_type": "code",
   "execution_count": 52,
   "id": "interesting-recruitment",
   "metadata": {},
   "outputs": [],
   "source": [
    "getsufrombivec[bivec1_, sgndet_, sola_ : True] := If[sgndet > 0, getsu2frombivec[bivec1, sola], getsu11frombivecm[bivec1, sola]]"
   ]
  },
  {
   "cell_type": "code",
   "execution_count": 53,
   "id": "associate-enterprise",
   "metadata": {},
   "outputs": [],
   "source": [
    "getxifromsu[hsu_, sgndet_ : 1, facesign_ : 1, tetsign0_ : 1] := \n",
    " If[sgndet > 0, {Transpose[hsu . {{1}, {0}}] // Flatten, \n",
    "   Transpose[hsu . {{0}, {1}}] // Flatten}, \n",
    "  If[facesign > 0, \n",
    "   If[tetsign0 > 0, {Transpose[hsu . {{1}, {0}}] // Flatten, \n",
    "     Transpose[hsu . {{0}, {1}}] // \n",
    "      Flatten}, {Transpose[hsu . {{0}, {1}}] // Flatten, \n",
    "     Transpose[hsu . {{1}, {0}}] // Flatten}], {Transpose[\n",
    "      1/Sqrt[2] hsu . {{1}, {1}}] // Flatten, \n",
    "    Transpose[1/Sqrt[2] hsu . {{1}, {-1}}] // Flatten}]]"
   ]
  },
  {
   "cell_type": "code",
   "execution_count": 54,
   "id": "civil-maintenance",
   "metadata": {},
   "outputs": [],
   "source": [
    "bivecdual[bivec_] := HodgeDual[η . bivec] . η"
   ]
  },
  {
   "cell_type": "code",
   "execution_count": 55,
   "id": "centered-break",
   "metadata": {},
   "outputs": [],
   "source": [
    "getsolution[bdypoints_] := \n",
    " Block[{edgevec, tetnormalvec, solgsl2c, solgso13, areaef, areaef550, \n",
    "   sgndet, fourfacenormal, threedtetfacenormal, threededgevec, bdysu, \n",
    "   threeto4dedgevec, tetareasign , ll$111 = Length[bdypoints], re$111,\n",
    "    aainter$121, areaef55, threeto4dtetfacenormal, bdybivec, \n",
    "   bdybivec55, bdyxin, signspp, signpossi, kappaall, fullkappa, \n",
    "   tetn0sign, bdybivec55s, rand, matrix},\n",
    "  \n",
    "  edgevec = \n",
    "   Table[(bdypoints[[#[[1]]]] - bdypoints[[#[[2]]]]) & /@ \n",
    "     edgeor[[j]], {j, 1, ll$111}]; \n",
    "  tetnormalvec = FullSimplify@gettetoutnormalvec1[edgevec, bdypoints];\n",
    "   solgsl2c = \n",
    "   Table[FullSimplify@getsl2c[tetnormalvec[[i]]], {i, 1, ll$111}]; \n",
    "  solgso13 = \n",
    "   Table[FullSimplify[getso13@solgsl2c[[i]]], {i, 1, ll$111}];\n",
    "  \n",
    "  areaef = \n",
    "   Table[\n",
    "     getarea[\n",
    "      getoutpfacevec[get3dtet[edgevec[[i]], solgso13[[i]]]]], {i, 1, \n",
    "      ll$111}] // FullSimplify;\n",
    "  areaef55 = Table[Insert[areaef[[i]], 0, i], {i, 1, 5}]; \n",
    "  sgndet = \n",
    "   Table[\n",
    "    Det[getoutpfacevec[\n",
    "       get3dtet[edgevec[[i]], solgso13[[i]]] // Chop][[2]]], {i, 1, \n",
    "     ll$111}];\n",
    "  threedtetfacenormal = \n",
    "   Table[\n",
    "    FullSimplify[\n",
    "     getfacenormal@\n",
    "      getoutpfacevec[(get3dtet[edgevec[[i]], solgso13[[i]]])]], {i, 1,\n",
    "      ll$111}];\n",
    "  threeto4dtetfacenormal = \n",
    "   Table[\n",
    "    threetofour[#, sgndet[[i]]] & /@ threedtetfacenormal[[i]], {i, 1, \n",
    "     ll$111}];\n",
    "  tetareasign = \n",
    "   Table[\n",
    "    Insert[\n",
    "     sgndet[[i]]*(# . \\[Eta] . # & /@ threeto4dtetfacenormal[[i]]) // \n",
    "        N // Chop // Round, 1, i], {i, ll$111}];\n",
    "  \n",
    "  If[True,\n",
    "   threededgevec = \n",
    "    Table[(get3dtet[edgevec[[i]], solgso13[[i]]])[[1]], {i, 1, \n",
    "      ll$111}]; \n",
    "   threeto4dedgevec = \n",
    "    Table[\n",
    "     threetofour[#, sgndet[[i]]] & /@ threededgevec[[i]], {i, 1, \n",
    "      ll$111}]; \n",
    "   bdybivec = \n",
    "    Table[\n",
    "     getbivec[threeto4dedgevec [[i, #[[1]]]], \n",
    "        threeto4dedgevec [[i, #[[2]]]]] & /@ etof, {i, 1, ll$111}]; \n",
    "   bdybivec55 = \n",
    "    Table[\n",
    "     Insert[#/Sqrt[Abs[1/2 Tr[# . #]]] & /@ bdybivec[[i]], Jvec[[3]], \n",
    "      i], {i, 1, 5}]; \n",
    "   bdybivec55s = \n",
    "    Table[\n",
    "     bivec1tohalf[#] & /@ (bdybivec55[[i]] // Normal), {i, 1, ll$111}];\n",
    "   tetn0sign = \n",
    "    Table[\n",
    "     Sign[#[[1, 1]] + 1/2 // N // Chop] & /@ (bdybivec55s)[[i]], {i, \n",
    "      1, ll$111}];\n",
    "   \n",
    "   bdysu = \n",
    "    Table[\n",
    "     getsufrombivec[bdybivec55s[[i, j]], sgndet[[i]]], {i, 1, \n",
    "      ll$111}, {j, 1, ll$111}];\n",
    "   bdyxin = \n",
    "    Table[\n",
    "     getxifromsu[bdysu[[i, j]], sgndet[[i]], tetareasign[[i, j]], \n",
    "      tetn0sign[[i, j]]], {i, 1, ll$111}, {j, 1, ll$111}];\n",
    "   \n",
    "   signspp = \n",
    "    Table[\n",
    "     signpossi = \n",
    "      Flatten[\n",
    "       Table[\n",
    "        Insert[{i1, i2, i3, i4}, 0, \n",
    "         i], {i1, {-1, 1}}, {i2, {-1, 1}}, {i3, {-1, 1}}, {i4, {-1, \n",
    "          1}}], 3]; \n",
    "     Table[\n",
    "      If[\n",
    "       Abs[\n",
    "         N@\n",
    "          Total[\n",
    "           Flatten@\n",
    "            FullSimplify[\n",
    "             Total[bdybivec55s[[i]]*signpossi[[j]]*areaef55[[i]]]]]] <\n",
    "         10^-5, signpossi[[j]], Unevaluated[Sequence[]]], {j, \n",
    "       Length[signpossi]}], {i, Length[bdybivec55s]}];\n",
    "   \n",
    "   kappaall = \n",
    "    Flatten[\n",
    "     Table[\n",
    "      matrix = \n",
    "       Join[{signspp[[1, i1]]}, {signspp[[2, i2]]}, {signspp[[3, \n",
    "          i3]]}, {signspp[[4, i4]]}, {signspp[[5, i5]]}]; \n",
    "      If[AntisymmetricMatrixQ[matrix], matrix, \n",
    "       Unevaluated[Sequence[]]], {i1, Length[signspp[[1]]]}, {i2, \n",
    "       Length[signspp[[2]]]}, {i3, Length[signspp[[3]]]}, {i4, \n",
    "       Length[signspp[[4]]]}, {i5, Length[signspp[[5]]]}], 4];\n",
    "   \n",
    "   fullkappa = \n",
    "    Table[\n",
    "      If[\n",
    "       And @@ \n",
    "        Table[\n",
    "         Count[kappaall[[j, i]], 1] == 2, {i, Length[kappaall[[j]]]}],\n",
    "        kappaall[[j]], Unevaluated@Sequence[]], {j, \n",
    "       Length[kappaall]}][[2]];\n",
    "   \n",
    "   re$111 = {solgsl2c, bdyxin, bdysu, bdybivec55s, areaef55, \n",
    "     fullkappa, threedtetfacenormal, {sgndet, tetn0sign, tetareasign}},\n",
    "   \n",
    "   Print[\"The bdy data is not allowed, there are timelike faces\"]; \n",
    "   re$111 = 0\n",
    "   ];\n",
    "  \n",
    "  re$111\n",
    "  ]"
   ]
  },
  {
   "cell_type": "code",
   "execution_count": 56,
   "id": "hispanic-cisco",
   "metadata": {},
   "outputs": [],
   "source": [
    "getz[gsl2c_, bdxi_] := #/#[[1]] & @ (Inverse[ConjugateTranspose[gsl2c]] . bdxi);"
   ]
  },
  {
   "cell_type": "markdown",
   "id": "statistical-scale",
   "metadata": {},
   "source": [
    "## Get bdry data and Critical Points"
   ]
  },
  {
   "cell_type": "code",
   "execution_count": 57,
   "id": "normal-coach",
   "metadata": {},
   "outputs": [],
   "source": [
    "Get[\"/home/dqu/Twocube/TwocubesAction/Labels.wl\"];"
   ]
  },
  {
   "cell_type": "code",
   "execution_count": 59,
   "id": "accessible-significance",
   "metadata": {},
   "outputs": [
    {
     "data": {
      "text/html": [
       "<div><img alt=\"Output\" src=\"data:image/png;base64,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\"></div>"
      ],
      "text/plain": [
       "{{{{{0, 0, 0, 0}, {0, 0, 0, 1}}, {{0, 0, 1, 0}, {0, 0, 1, 1}}}, \n",
       " \n",
       ">    {{{0, 1, 0, 0}, {0, 1, 0, 1}}, {{0, 1, 1, 0}, {0, 1, 1, 1}}}}, \n",
       " \n",
       "        1             1               1             1\n",
       ">   {{{{-, 0, 0, 0}, {-, 0, 0, 1}}, {{-, 0, 1, 0}, {-, 0, 1, 1}}}, \n",
       "        4             4               4             4\n",
       " \n",
       "        1             1               1             1\n",
       ">    {{{-, 1, 0, 0}, {-, 1, 0, 1}}, {{-, 1, 1, 0}, {-, 1, 1, 1}}}}}\n",
       "        4             4               4             4"
      ]
     },
     "execution_count": 59,
     "metadata": {
      "text/html": [],
      "text/plain": []
     },
     "output_type": "execute_result"
    }
   ],
   "source": [
    "Vertices = Table[{i1, i2, i3, i4}, {i1, {0, 1/4}}, {i2, {0, 1}}, {i3, {0, 1}}, {i4, {0, 1}}]"
   ]
  },
  {
   "cell_type": "code",
   "execution_count": null,
   "id": "sorted-harmony",
   "metadata": {},
   "outputs": [],
   "source": []
  }
 ],
 "metadata": {
  "kernelspec": {
   "display_name": "Wolfram Language 13",
   "language": "Wolfram Language",
   "name": "wolframlanguage13"
  },
  "language_info": {
   "codemirror_mode": "mathematica",
   "file_extension": ".m",
   "mimetype": "application/vnd.wolfram.m",
   "name": "Wolfram Language",
   "pygments_lexer": "mathematica",
   "version": "12.0"
  }
 },
 "nbformat": 4,
 "nbformat_minor": 5
}
