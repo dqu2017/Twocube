{
 "cells": [
  {
   "cell_type": "markdown",
   "id": "demanding-coach",
   "metadata": {
    "tags": []
   },
   "source": [
    "## Difine functions"
   ]
  },
  {
   "cell_type": "markdown",
   "id": "healthy-cleaner",
   "metadata": {
    "tags": []
   },
   "source": [
    "Define some parameters and generators"
   ]
  },
  {
   "cell_type": "code",
   "execution_count": 1,
   "id": "valuable-sharp",
   "metadata": {},
   "outputs": [],
   "source": [
    "sigma4 = Join[{IdentityMatrix[2]}, Table[PauliMatrix[i], {i, 1, 3}]];\n",
    "sigmabar4 = Join[{IdentityMatrix[2]}, -Table[PauliMatrix[i], {i, 1, 3}]];\n",
    "su11sigma = {PauliMatrix[3], I PauliMatrix[1], I PauliMatrix[2]};"
   ]
  },
  {
   "cell_type": "code",
   "execution_count": 36,
   "id": "southwest-horizon",
   "metadata": {},
   "outputs": [],
   "source": [
    "Jvec = {{{0, 1, 0, 0}, {1, 0, 0, 0}, {0, 0, 0, 0}, {0, 0, 0, 0}}, {{0,\n",
    "      0, 1, 0}, {0, 0, 0, 0}, {1, 0, 0, 0}, {0, 0, 0, 0}}, {{0, 0, 0, \n",
    "     1}, {0, 0, 0, 0}, {0, 0, 0, 0}, {1, 0, 0, \n",
    "     0}}, -{{0, 0, 0, 0}, {0, 0, 0, 0}, {0, 0, 0, -1}, {0, 0, 1, \n",
    "      0}}, -{{0, 0, 0, 0}, {0, 0, 0, 1}, {0, 0, 0, 0}, {0, -1, 0, \n",
    "      0}}, {{0, 0, 0, 0}, {0, 0, 1, 0}, {0, -1, 0, 0}, {0, 0, 0, 0}}};"
   ]
  },
  {
   "cell_type": "code",
   "execution_count": 38,
   "id": "foreign-understanding",
   "metadata": {},
   "outputs": [],
   "source": [
    "jjvec = Join[1/2 Table[PauliMatrix[i], {i, 1, 3}], I/2 Table[PauliMatrix[i], {i, 1, 3}]];"
   ]
  },
  {
   "cell_type": "code",
   "execution_count": 6,
   "id": "continental-clear",
   "metadata": {},
   "outputs": [],
   "source": [
    "η = DiagonalMatrix[{-1, 1, 1, 1}];"
   ]
  },
  {
   "cell_type": "code",
   "execution_count": 8,
   "id": "lined-duncan",
   "metadata": {},
   "outputs": [],
   "source": [
    "edgeor = Subsets[#, {2}] & /@ Subsets[{1, 2, 3, 4, 5}, {4}];\n",
    "faceor = Subsets[#, {3}] & /@ Subsets[{1, 2, 3, 4, 5}, {4}];"
   ]
  },
  {
   "cell_type": "code",
   "execution_count": 10,
   "id": "relative-singles",
   "metadata": {},
   "outputs": [],
   "source": [
    "etof = {{1, 2}, {1, 3}, {2, 3}, {4, 5}};\n",
    "tetorder = Table[j, {j, 5, 1, -1}];\n",
    "edgefromfaceor = Table[Subsets[#, {2}] & /@ faceor[[i]], {i, 1, 5}];\n",
    "edgefromfaceornum = Table[Position[edgeor[[i]], #] & /@ edgefromfaceor[[i, j]]//Flatten, {i, 1, 5}, {j, 1, 4}];"
   ]
  },
  {
   "cell_type": "markdown",
   "id": "brave-airfare",
   "metadata": {},
   "source": [
    "Define functions"
   ]
  },
  {
   "cell_type": "code",
   "execution_count": 14,
   "id": "absent-weapon",
   "metadata": {},
   "outputs": [],
   "source": [
    "normso13[aa_, bb_] := aa . η . bb"
   ]
  },
  {
   "cell_type": "code",
   "execution_count": 19,
   "id": "greek-stations",
   "metadata": {},
   "outputs": [],
   "source": [
    "gettetnormalvec[edgetet_] := Block[{a, b, c, d},\n",
    "  FullSimplify[{a, b, c, d}/\n",
    "    Sqrt[Abs[normso13[{a, b, c, d}, {a, b, c, d}]]] /. \n",
    "     Solve[\n",
    "      Thread[({a, b, c, d} . DiagonalMatrix[{-1, 1, 1, 1}] . # & /@ \n",
    "          edgetet[[1 ;; 3]]) == 0], {a, b, c, d}] // Flatten, \n",
    "   Join[{a > 0, b > 0, c > 0, d > 0}, \n",
    "    Thread[{a, b, c, d} ϵ Reals]]]\n",
    "  ]"
   ]
  },
  {
   "cell_type": "code",
   "execution_count": 20,
   "id": "affiliated-vienna",
   "metadata": {},
   "outputs": [],
   "source": [
    "gettetoutnormalvec1[edgetetall_, bdypoint_] := \n",
    " Block[{unsignnormalvec$111 = gettetnormalvec /@ edgetetall},\n",
    "  Table[If[\n",
    "    unsignnormalvec$111[[i]] . η . unsignnormalvec$111[[i]] > 0, \n",
    "    unsignnormalvec$111[[i]] Sign[\n",
    "      unsignnormalvec$111[[\n",
    "         i]] . (bdypoint[[tetorder[[i]]]] - \n",
    "          bdypoint[[edgeor[[i, 1, 1]]]]) // N], \n",
    "    Sign[unsignnormalvec$111[[i, 1]] // N] unsignnormalvec$111[[\n",
    "      i]]], {i, Length[unsignnormalvec$111]}]\n",
    "  ]"
   ]
  },
  {
   "cell_type": "code",
   "execution_count": 21,
   "id": "victorian-arlington",
   "metadata": {},
   "outputs": [],
   "source": [
    "vectospinor[aa_] := {{aa[[1]] + aa[[4]], aa[[2]] - I aa[[3]]}, {aa[[2]] + I aa[[3]], aa[[1]] - aa[[4]]}}"
   ]
  },
  {
   "cell_type": "code",
   "execution_count": 23,
   "id": "approximate-white",
   "metadata": {},
   "outputs": [],
   "source": [
    "getreim[ff_, assume_] := Simplify[({Re[#], Im[#]} & @ ff // ExpandAll // FunctionExpand), Assumptions -> assume]"
   ]
  },
  {
   "cell_type": "code",
   "execution_count": 24,
   "id": "optional-dollar",
   "metadata": {},
   "outputs": [],
   "source": [
    "getsl2c[n1_, n2_] := \n",
    " Block[{sn2 = vectospinor[n2], sn1 = vectospinor[n1], ggi, soleqggisn,\n",
    "    ggire, a1, a2, b1, b2, c1, c2, d1, d2, eqggisn, symbolsoleqggisn, \n",
    "   symbolinstancesoleqggisn},\n",
    "  ggi = FullSimplify[{{a1 + I a2 , b1 + I b2}, {c1 + I c2, d1 + I d2}} . sn1 . \n",
    "  ConjugateTranspose[{{a1 + I a2 , b1 + I b2}, {c1 + I c2, d1 + I d2}}], {a1, a2, b1, b2, c1, c2, d1, d2} ∈ Reals]; \n",
    "  eqggisn = \n",
    "   DeleteCases[\n",
    "    Thread[(getreim[\n",
    "          ggi, {a1, a2, b1, b2, c1, c2, d1, d2} ∈ Reals] - \n",
    "         getreim[\n",
    "          sn2, {a1, a2, b1, b2, c1, c2, d1, d2} ∈ Reals] // \n",
    "        Flatten) == 0], True];\n",
    "  soleqggisn = \n",
    "   Solve[\n",
    "     Join[\n",
    "      eqggisn, {Det[{{a1 + I a2 , b1 + I b2}, {c1 + I c2, \n",
    "           d1 + I d2}}] == 1}], {a1, a2, b1, b2, c1, c2, d1, d2}][[1]];\n",
    "  symbolsoleqggisn = \n",
    "   DeleteDuplicates@\n",
    "    Cases[{a1, a2, b1, b2, c1, c2, d1, d2} /. soleqggisn, _Symbol, -1];\n",
    "  symbolinstancesoleqggisn = \n",
    "   FindInstance[\n",
    "     Thread[\n",
    "      DeleteDuplicates@Cases[soleqggisn, Sqrt[xx_] -> xx, -1] > 0], \n",
    "     symbolsoleqggisn, Reals][[1]];\n",
    "  ggire = {{a1 + I a2 , b1 + I b2}, {c1 + I c2, d1 + I d2}} /. \n",
    "     soleqggisn /. symbolinstancesoleqggisn]"
   ]
  },
  {
   "cell_type": "code",
   "execution_count": 25,
   "id": "laughing-seattle",
   "metadata": {},
   "outputs": [],
   "source": [
    "getsl2c[nn_] := \n",
    " Block[{lsign$111 = Round[normso13[#, #]] & @ nn}, \n",
    "  If[lsign$111 === (normso13[#, #] & @ ({1, 0, 0, 0})), \n",
    "   getsl2c[{1, 0, 0, 0}, nn], \n",
    "   If[lsign$111 === (normso13[#, #] & @ ({0, 0, 0, 1})), \n",
    "    getsl2c[{0, 0, 0, 1}, nn]]]]"
   ]
  },
  {
   "cell_type": "code",
   "execution_count": 26,
   "id": "earned-tunnel",
   "metadata": {},
   "outputs": [],
   "source": [
    "getso13[sl2cg_] := \n",
    " Table[1/2 Tr[\n",
    "    sl2cg . sigmabar4[[i]] . ConjugateTranspose[sl2cg] . \n",
    "     sigmabar4[[j]]], {i, 1, 4}, {j, 1, 4}]"
   ]
  },
  {
   "cell_type": "code",
   "execution_count": 27,
   "id": "listed-actor",
   "metadata": {},
   "outputs": [],
   "source": [
    "get3dtet[tetlenthvec_, tetsol13_] := \n",
    " Block[{tet3dvec$111, zeropos}, \n",
    "  tet3dvec$111 = FullSimplify[tetsol13 . # & /@ tetlenthvec]; \n",
    "  zeropos = Position[Chop@Total[Abs[tet3dvec$111 // N]], 0][[1]]; \n",
    "  If[Length[zeropos] === 1, {Drop[#, zeropos] & /@ tet3dvec$111, \n",
    "    zeropos}, tet3dvec$111]]"
   ]
  },
  {
   "cell_type": "code",
   "execution_count": 28,
   "id": "optimum-confirmation",
   "metadata": {},
   "outputs": [],
   "source": [
    "getfacevec[{tetedgevec_, normali_}] := \n",
    " Block[{meta$111 = \n",
    "    Drop[η, {normali} // Flatten, {normali} // \n",
    "      Flatten]}, {1/2 Cross[meta$111 . tetedgevec[[#[[1]]]], \n",
    "       meta$111 . tetedgevec[[#[[2]]]]] & /@ etof, meta$111}]"
   ]
  },
  {
   "cell_type": "code",
   "execution_count": 29,
   "id": "arabic-walnut",
   "metadata": {},
   "outputs": [],
   "source": [
    "getoutpfacevec[{tetedgevec_, normali_}] := \n",
    " Block[{rrr$111 = getfacevec[{tetedgevec, normali}], nvec$111, \n",
    "   meta$111}, nvec$111 = rrr$111[[1]]; \n",
    "  meta$111 = \n",
    "   rrr$111[[\n",
    "    2]]; {(Sign /@ (Table[{tetedgevec[[3]], tetedgevec[[2]], \n",
    "            tetedgevec[[1]], -tetedgevec[[1]]}[[i]] . meta$111 . \n",
    "          nvec$111[[i]], {i, Length[nvec$111]}] // N)) nvec$111, \n",
    "   meta$111}]"
   ]
  },
  {
   "cell_type": "code",
   "execution_count": 30,
   "id": "realistic-telephone",
   "metadata": {},
   "outputs": [],
   "source": [
    "getfacenormal[{facevec_, meta_}] := #/Sqrt[Abs[(# . meta . # )]] & /@ facevec"
   ]
  },
  {
   "cell_type": "code",
   "execution_count": 31,
   "id": "indirect-photograph",
   "metadata": {},
   "outputs": [],
   "source": [
    "getarea[{facevec_, meta_}] := Sqrt[Abs[(# . meta . # )]] & /@ facevec"
   ]
  },
  {
   "cell_type": "code",
   "execution_count": 33,
   "id": "interracial-memphis",
   "metadata": {},
   "outputs": [],
   "source": [
    "threetofour[n_, sgndet1_] := If[sgndet1 > 0, Join[{0}, n], Join[n, {0}]]"
   ]
  },
  {
   "cell_type": "code",
   "execution_count": 34,
   "id": "curious-cabinet",
   "metadata": {},
   "outputs": [],
   "source": [
    "getbivec[n1_, n2_] := 1/2 Table[Sum[LeviCivitaTensor[4][[i, j, k, l]] (η . n1)[[k]] (η . n2)[[l]], {k, 1, 4}, {l, 1, 4}], {i, 1, 4}, {j, 1, 4}] . η"
   ]
  },
  {
   "cell_type": "code",
   "execution_count": 39,
   "id": "eleven-florida",
   "metadata": {},
   "outputs": [],
   "source": [
    "bivec1tohalf[bivec_] := \n",
    " Total[ 1/2 Join[\n",
    "    Table[\n",
    "     Tr[bivec . Jvec[[i]]], {i, 1, 3}], -Table[\n",
    "      Tr[bivec . Jvec[[i]]], {i, 4, 6}]]*jjvec]"
   ]
  },
  {
   "cell_type": "code",
   "execution_count": 47,
   "id": "technological-probability",
   "metadata": {},
   "outputs": [],
   "source": [
    "Off[Solve::svars]\n",
    "Off[Solve::ratnz]\n",
    "\n",
    "eqssu2 = \n",
    "  DeleteCases[\n",
    "   DeleteDuplicates[\n",
    "    Thread[(FullSimplify[{Re[#], Im[#]} & /@ \n",
    "           ExpandAll[\n",
    "            Join[\n",
    "               Flatten[(({{a$eqt, b$eqt}, {-Conjugate[b$eqt], \n",
    "                    Conjugate[a$eqt]}} . PauliMatrix[3] . \n",
    "                    Inverse[{{a$eqt, b$eqt}, {-Conjugate[b$eqt], \n",
    "                    Conjugate[a$eqt]}}] - \n",
    "                    Total[{ee$eqt, ff$eqt, gg$eqt}*\n",
    "                    Table[PauliMatrix[i], {i, 1, 3}]] /. \n",
    "                   a$eqt Conjugate[a$eqt] + b$eqt Conjugate[b$eqt] -> \n",
    "                    1))], {a$eqt Conjugate[a$eqt] + \n",
    "                 b$eqt Conjugate[b$eqt] - 1}] /. \n",
    "              a$eqt -> aa1$eqt + I aa2$eqt /. \n",
    "             b$eqt -> bb1$eqt + I bb2$eqt], {aa1$eqt, aa2$eqt, \n",
    "            bb1$eqt, bb2$eqt, ee$eqt, ff$eqt, gg$eqt} ∈ \n",
    "           Reals] // Flatten) == 0] // FullSimplify], True];\n",
    "\n",
    "soleqssu2$eqs = (Solve[\n",
    "        eqssu2[[1 ;; 3]], {aa1$eqt, aa2$eqt, bb1$eqt, bb2$eqt}] /. \n",
    "       ee$eqt^2 + ff$eqt^2 + gg$eqt^2 -> 1 // FullSimplify) //. \n",
    "    ff$eqt^2 -> 1 - ee$eqt^2 - gg$eqt^2 // FullSimplify;\n",
    "\n",
    "soleqssu2 = \n",
    "  soleqssu2$eqs[[\n",
    "   Position[\n",
    "     Total[\n",
    "      Transpose@\n",
    "       Boole[(eqssu2 /. soleqssu2$eqs //. \n",
    "             ff$eqt^2 -> 1 - ee$eqt^2 - gg$eqt^2 // FullSimplify) //. \n",
    "          ff$eqt^2 -> 1 - ee$eqt^2 - gg$eqt^2 // FullSimplify], 1], \n",
    "     Length[eqssu2]][[1, 1]]]];\n",
    "\n",
    "soleqssu2$aa1 = \n",
    "  Solve[Cases[soleqssu2[[1]], Sqrt[xx$eqt_] -> xx$eqt, -1] == 0, \n",
    "    aa1$eqt][[-1]];\n",
    "\n",
    "soleqssu2ta = \n",
    "  If[(aa1$eqt /. soleqssu2$aa1) ∈ Reals, \n",
    "   Evaluate[Join[soleqssu2$aa1, soleqssu2 /. soleqssu2$aa1]], \n",
    "   Evaluate[Join[{aa1$eqt -> 0}, soleqssu2 /. aa1$eqt -> 0]]];\n",
    "\n",
    "getsu2frombivec[bivec_, sola_ : True] := \n",
    " Module[{aaa = \n",
    "     Thread[{ee$eqt, ff$eqt, gg$eqt} -> \n",
    "       Re[Tr[bivec . #] & /@ Table[PauliMatrix[i], {i, 1, 3}] ]]},\n",
    "   If[(gg$eqt /. aaa) === -1, I*PauliMatrix[2],\n",
    "    {{aa1$eqt + I aa2$eqt, \n",
    "       bb1$eqt + I bb2$eqt}, {-bb1$eqt + I bb2$eqt, \n",
    "       aa1$eqt - I aa2$eqt}} /. (If[sola, soleqssu2ta, soleqssu2] /. \n",
    "       Thread[{ee$eqt, ff$eqt, gg$eqt} -> \n",
    "         Re[\n",
    "          Tr[bivec . #] & /@ Table[PauliMatrix[i], {i, 1, 3}] ]])]] //\n",
    "   FullSimplify"
   ]
  },
  {
   "cell_type": "code",
   "execution_count": 55,
   "id": "fourth-taiwan",
   "metadata": {},
   "outputs": [],
   "source": [
    "eqtsu11 = \n",
    "  DeleteCases[\n",
    "   DeleteDuplicates[\n",
    "    Thread[(FullSimplify[{Re[#], Im[#]} & /@ \n",
    "           ExpandAll[\n",
    "            Join[\n",
    "               Flatten[((I {{a$eqt, b$eqt}, {Conjugate[b$eqt], \n",
    "                    Conjugate[a$eqt]}} . PauliMatrix[1] . \n",
    "                    Inverse[{{a$eqt, b$eqt}, {Conjugate[b$eqt], \n",
    "                    Conjugate[a$eqt]}}] - \n",
    "                    Total[{ee$eqt, ff$eqt, gg$eqt}*su11sigma] /. \n",
    "                   a$eqt Conjugate[a$eqt] - b$eqt Conjugate[b$eqt] -> \n",
    "                    1))], {a$eqt Conjugate[a$eqt] - \n",
    "                 b$eqt Conjugate[b$eqt] - 1}] /. \n",
    "              a$eqt -> aa1$eqt + I aa2$eqt /. \n",
    "             b$eqt -> bb1$eqt + I bb2$eqt], {aa1$eqt, aa2$eqt, \n",
    "            bb1$eqt, bb2$eqt, ee$eqt, ff$eqt, gg$eqt} \\[Element] \n",
    "           Reals] // Flatten) == 0] // FullSimplify], True];\n",
    "\n",
    "eqssu11 = \n",
    "  DeleteCases[\n",
    "   DeleteDuplicates[\n",
    "    Thread[(FullSimplify[{Re[#], Im[#]} & /@ \n",
    "           ExpandAll[\n",
    "            Join[\n",
    "               Flatten[(({{a$eqt, b$eqt}, {Conjugate[b$eqt], \n",
    "                    Conjugate[a$eqt]}} . su11sigma[[1]] . \n",
    "                    Inverse[{{a$eqt, b$eqt}, {Conjugate[b$eqt], \n",
    "                    Conjugate[a$eqt]}}] - \n",
    "                    Total[{ee$eqt, ff$eqt, gg$eqt}*su11sigma] /. \n",
    "                   a$eqt Conjugate[a$eqt] - b$eqt Conjugate[b$eqt] -> \n",
    "                    1))], {a$eqt Conjugate[a$eqt] - \n",
    "                 b$eqt Conjugate[b$eqt] - 1}] /. \n",
    "              a$eqt -> aa1$eqt + I aa2$eqt /. \n",
    "             b$eqt -> bb1$eqt + I bb2$eqt], {aa1$eqt, aa2$eqt, \n",
    "            bb1$eqt, bb2$eqt, ee$eqt, ff$eqt, gg$eqt} \\[Element] \n",
    "           Reals] // Flatten) == 0] // FullSimplify], True];\n",
    "\n",
    "soleqtsu11$eqs = (Solve[\n",
    "        eqtsu11[[1 ;; 3]], {aa1$eqt, aa2$eqt, bb1$eqt, bb2$eqt}] //. \n",
    "       ee$eqt^2 -> ff$eqt^2 + gg$eqt^2 - 1 // FullSimplify) //. \n",
    "    ee$eqt^2 -> ff$eqt^2 + gg$eqt^2 - 1 // FullSimplify;\n",
    "\n",
    "soleqtsu11 = \n",
    "  soleqtsu11$eqs[[\n",
    "   Position[\n",
    "     Total[\n",
    "      Transpose@\n",
    "       Boole[(eqtsu11 /. soleqtsu11$eqs //. \n",
    "             ee$eqt^2 -> ff$eqt^2 + gg$eqt^2 - 1 // FullSimplify) //. \n",
    "          ee$eqt^2 -> ff$eqt^2 + gg$eqt^2 - 1 // FullSimplify], 1], \n",
    "     Length[eqssu11]][[2, 1]]]];\n",
    "\n",
    "soleqtsu11$aa1 = \n",
    "  Solve[Cases[soleqtsu11[[1]], Sqrt[xx$eqt_] -> xx$eqt, -1] == 0, \n",
    "    aa1$eqt][[-1]];\n",
    "\n",
    "soleqtsu11ta = \n",
    "  If[(aa1$eqt /. soleqtsu11$aa1) \\[Element] Reals, \n",
    "   Evaluate[Join[soleqtsu11$aa1, soleqtsu11 /. soleqtsu11$aa1]], \n",
    "   Evaluate[Join[{aa1$eqt -> 0}, soleqtsu11 /. aa1$eqt -> 0]]];\n",
    "\n",
    "soleqssu11$eqs = (Solve[\n",
    "        eqssu11[[1 ;; 3]], {aa1$eqt, aa2$eqt, bb1$eqt, bb2$eqt}] //. \n",
    "       ff$eqt^2 -> ee$eqt^2 - gg$eqt^2 - 1 // FullSimplify) //. \n",
    "    ff$eqt^2 -> ee$eqt^2 - gg$eqt^2 - 1 // FullSimplify;\n",
    "\n",
    "soleqssu11 = \n",
    "  soleqssu11$eqs[[\n",
    "   Position[\n",
    "     Total[\n",
    "      Transpose@\n",
    "       Boole[(eqssu11 /. soleqssu11$eqs //. \n",
    "             ff$eqt^2 -> ee$eqt^2 - gg$eqt^2 - 1 // FullSimplify) //. \n",
    "          ff$eqt^2 -> ee$eqt^2 - gg$eqt^2 - 1 // FullSimplify], 1], \n",
    "     Length[eqssu11]][[1, 1]]]];\n",
    "\n",
    "soleqssu11$aa1 = \n",
    "  Solve[Cases[soleqssu11[[1]], Sqrt[xx$eqt_] -> xx$eqt, -1] == 0, \n",
    "    aa1$eqt][[-1]];\n",
    "\n",
    "soleqssu11ta = \n",
    "  If[(aa1$eqt /. soleqssu11$aa1) \\[Element] Reals, \n",
    "   Evaluate[Join[soleqssu11$aa1, soleqssu11 /. soleqssu11$aa1]], \n",
    "   Evaluate[Join[{aa1$eqt -> 0}, soleqssu11 /. aa1$eqt -> 0]]];\n",
    "\n",
    "getsu11frombivecm[bivec_, sola_ : True] := \n",
    " Block[{soleqs, soleqt, aaa}, \n",
    "   If[sola, soleqs = soleqssu11ta; soleqt = soleqtsu11ta;, \n",
    "    soleqs = soleqssu11, soleqt = soleqtsu11]; \n",
    "   If[Sign[Re[Tr[bivec . bivec]]] >= 0, \n",
    "    If[Re[Tr[bivec . su11sigma[[1]]]]*\n",
    "       Tr[su11sigma[[1]] . su11sigma[[1]]] > \n",
    "      0, {{aa1$eqt + I aa2$eqt, \n",
    "        bb1$eqt + I bb2$eqt}, {bb1$eqt - I bb2$eqt, \n",
    "        aa1$eqt - I aa2$eqt}} /. (soleqs /. \n",
    "        Thread[{ee$eqt, ff$eqt, gg$eqt} -> \n",
    "          1/2 Re[Tr[# . #] & /@ su11sigma ]*\n",
    "           Re[Tr[bivec . #] & /@ su11sigma ]]), {{aa1$eqt + I aa2$eqt,\n",
    "         bb1$eqt + I bb2$eqt}, {bb1$eqt - I bb2$eqt, \n",
    "        aa1$eqt - I aa2$eqt}} /. (soleqs /. \n",
    "        Thread[{ee$eqt, ff$eqt, \n",
    "           gg$eqt} -> -1/2 Re[Tr[# . #] & /@ su11sigma ]*\n",
    "           Re[Tr[bivec . #] & /@ su11sigma ]])], \n",
    "    aaa = \n",
    "     Thread[{ee$eqt, ff$eqt, gg$eqt} -> \n",
    "       1/2 Re[Tr[# . #] & /@ su11sigma ] Re[\n",
    "         Tr[bivec . #] & /@ su11sigma ]]; \n",
    "    If[(ff$eqt /. aaa) === -1, \n",
    "     I*PauliMatrix[\n",
    "       3], {{aa1$eqt + I aa2$eqt, \n",
    "        bb1$eqt + I bb2$eqt}, {bb1$eqt - I bb2$eqt, \n",
    "        aa1$eqt - I aa2$eqt}} /. (soleqt /. aaa)]]] // FullSimplify"
   ]
  },
  {
   "cell_type": "code",
   "execution_count": 66,
   "id": "human-fantasy",
   "metadata": {},
   "outputs": [],
   "source": [
    "getsufrombivec[bivec1_, sgndet_, sola_ : True] := If[sgndet > 0, getsu2frombivec[bivec1, sola], getsu11frombivecm[bivec1, sola]]"
   ]
  },
  {
   "cell_type": "code",
   "execution_count": 67,
   "id": "secure-enhancement",
   "metadata": {},
   "outputs": [],
   "source": [
    "getxifromsu[hsu_, sgndet_ : 1, facesign_ : 1, tetsign0_ : 1] := \n",
    " If[sgndet > 0, {Transpose[hsu . {{1}, {0}}] // Flatten, \n",
    "   Transpose[hsu . {{0}, {1}}] // Flatten}, \n",
    "  If[facesign > 0, \n",
    "   If[tetsign0 > 0, {Transpose[hsu . {{1}, {0}}] // Flatten, \n",
    "     Transpose[hsu . {{0}, {1}}] // \n",
    "      Flatten}, {Transpose[hsu . {{0}, {1}}] // Flatten, \n",
    "     Transpose[hsu . {{1}, {0}}] // Flatten}], {Transpose[\n",
    "      1/Sqrt[2] hsu . {{1}, {1}}] // Flatten, \n",
    "    Transpose[1/Sqrt[2] hsu . {{1}, {-1}}] // Flatten}]]"
   ]
  },
  {
   "cell_type": "code",
   "execution_count": 68,
   "id": "chicken-account",
   "metadata": {},
   "outputs": [],
   "source": [
    "bivecdual[bivec_] := HodgeDual[η . bivec] . η"
   ]
  },
  {
   "cell_type": "code",
   "execution_count": 69,
   "id": "mathematical-sydney",
   "metadata": {},
   "outputs": [],
   "source": [
    "getsolution[bdypoints_] := \n",
    " Block[{edgevec, tetnormalvec, solgsl2c, solgso13, areaef, areaef550, \n",
    "   sgndet, fourfacenormal, threedtetfacenormal, threededgevec, bdysu, \n",
    "   threeto4dedgevec, tetareasign , ll$111 = Length[bdypoints], re$111,\n",
    "    aainter$121, areaef55, threeto4dtetfacenormal, bdybivec, \n",
    "   bdybivec55, bdyxin, signspp, signpossi, kappaall, fullkappa, \n",
    "   tetn0sign, bdybivec55s, rand, matrix},\n",
    "  \n",
    "  edgevec = \n",
    "   Table[(bdypoints[[#[[1]]]] - bdypoints[[#[[2]]]]) & /@ \n",
    "     edgeor[[j]], {j, 1, ll$111}]; \n",
    "  tetnormalvec = FullSimplify@gettetoutnormalvec1[edgevec, bdypoints];\n",
    "   solgsl2c = \n",
    "   Table[FullSimplify@getsl2c[tetnormalvec[[i]]], {i, 1, ll$111}]; \n",
    "  solgso13 = \n",
    "   Table[FullSimplify[getso13@solgsl2c[[i]]], {i, 1, ll$111}];\n",
    "  \n",
    "  areaef = \n",
    "   Table[\n",
    "     getarea[\n",
    "      getoutpfacevec[get3dtet[edgevec[[i]], solgso13[[i]]]]], {i, 1, \n",
    "      ll$111}] // FullSimplify;\n",
    "  areaef55 = Table[Insert[areaef[[i]], 0, i], {i, 1, 5}]; \n",
    "  sgndet = \n",
    "   Table[\n",
    "    Det[getoutpfacevec[\n",
    "       get3dtet[edgevec[[i]], solgso13[[i]]] // Chop][[2]]], {i, 1, \n",
    "     ll$111}];\n",
    "  threedtetfacenormal = \n",
    "   Table[\n",
    "    FullSimplify[\n",
    "     getfacenormal@\n",
    "      getoutpfacevec[(get3dtet[edgevec[[i]], solgso13[[i]]])]], {i, 1,\n",
    "      ll$111}];\n",
    "  threeto4dtetfacenormal = \n",
    "   Table[\n",
    "    threetofour[#, sgndet[[i]]] & /@ threedtetfacenormal[[i]], {i, 1, \n",
    "     ll$111}];\n",
    "  tetareasign = \n",
    "   Table[\n",
    "    Insert[\n",
    "     sgndet[[i]]*(# . \\[Eta] . # & /@ threeto4dtetfacenormal[[i]]) // \n",
    "        N // Chop // Round, 1, i], {i, ll$111}];\n",
    "  \n",
    "  If[True,\n",
    "   threededgevec = \n",
    "    Table[(get3dtet[edgevec[[i]], solgso13[[i]]])[[1]], {i, 1, \n",
    "      ll$111}]; \n",
    "   threeto4dedgevec = \n",
    "    Table[\n",
    "     threetofour[#, sgndet[[i]]] & /@ threededgevec[[i]], {i, 1, \n",
    "      ll$111}]; \n",
    "   bdybivec = \n",
    "    Table[\n",
    "     getbivec[threeto4dedgevec [[i, #[[1]]]], \n",
    "        threeto4dedgevec [[i, #[[2]]]]] & /@ etof, {i, 1, ll$111}]; \n",
    "   bdybivec55 = \n",
    "    Table[\n",
    "     Insert[#/Sqrt[Abs[1/2 Tr[# . #]]] & /@ bdybivec[[i]], Jvec[[3]], \n",
    "      i], {i, 1, 5}]; \n",
    "   bdybivec55s = \n",
    "    Table[\n",
    "     bivec1tohalf[#] & /@ (bdybivec55[[i]] // Normal), {i, 1, ll$111}];\n",
    "   tetn0sign = \n",
    "    Table[\n",
    "     Sign[#[[1, 1]] + 1/2 // N // Chop] & /@ (bdybivec55s)[[i]], {i, \n",
    "      1, ll$111}];\n",
    "   \n",
    "   bdysu = \n",
    "    Table[\n",
    "     getsufrombivec[bdybivec55s[[i, j]], sgndet[[i]]], {i, 1, \n",
    "      ll$111}, {j, 1, ll$111}];\n",
    "   bdyxin = \n",
    "    Table[\n",
    "     getxifromsu[bdysu[[i, j]], sgndet[[i]], tetareasign[[i, j]], \n",
    "      tetn0sign[[i, j]]], {i, 1, ll$111}, {j, 1, ll$111}];\n",
    "   \n",
    "   signspp = \n",
    "    Table[\n",
    "     signpossi = \n",
    "      Flatten[\n",
    "       Table[\n",
    "        Insert[{i1, i2, i3, i4}, 0, \n",
    "         i], {i1, {-1, 1}}, {i2, {-1, 1}}, {i3, {-1, 1}}, {i4, {-1, \n",
    "          1}}], 3]; \n",
    "     Table[\n",
    "      If[\n",
    "       Abs[\n",
    "         N@\n",
    "          Total[\n",
    "           Flatten@\n",
    "            FullSimplify[\n",
    "             Total[bdybivec55s[[i]]*signpossi[[j]]*areaef55[[i]]]]]] <\n",
    "         10^-5, signpossi[[j]], Unevaluated[Sequence[]]], {j, \n",
    "       Length[signpossi]}], {i, Length[bdybivec55s]}];\n",
    "   \n",
    "   kappaall = \n",
    "    Flatten[\n",
    "     Table[\n",
    "      matrix = \n",
    "       Join[{signspp[[1, i1]]}, {signspp[[2, i2]]}, {signspp[[3, \n",
    "          i3]]}, {signspp[[4, i4]]}, {signspp[[5, i5]]}]; \n",
    "      If[AntisymmetricMatrixQ[matrix], matrix, \n",
    "       Unevaluated[Sequence[]]], {i1, Length[signspp[[1]]]}, {i2, \n",
    "       Length[signspp[[2]]]}, {i3, Length[signspp[[3]]]}, {i4, \n",
    "       Length[signspp[[4]]]}, {i5, Length[signspp[[5]]]}], 4];\n",
    "   \n",
    "   fullkappa = \n",
    "    Table[\n",
    "      If[\n",
    "       And @@ \n",
    "        Table[\n",
    "         Count[kappaall[[j, i]], 1] == 2, {i, Length[kappaall[[j]]]}],\n",
    "        kappaall[[j]], Unevaluated@Sequence[]], {j, \n",
    "       Length[kappaall]}][[2]];\n",
    "   \n",
    "   re$111 = {solgsl2c, bdyxin, bdysu, bdybivec55s, areaef55, \n",
    "     fullkappa, threedtetfacenormal, {sgndet, tetn0sign, tetareasign}},\n",
    "   \n",
    "   Print[\"The bdy data is not allowed, there are timelike faces\"]; \n",
    "   re$111 = 0\n",
    "   ];\n",
    "  \n",
    "  re$111\n",
    "  ]"
   ]
  },
  {
   "cell_type": "code",
   "execution_count": 70,
   "id": "personalized-seven",
   "metadata": {},
   "outputs": [],
   "source": [
    "getz[gsl2c_, bdxi_] := #/#[[1]] & @ (Inverse[ConjugateTranspose[gsl2c]] . bdxi);"
   ]
  },
  {
   "cell_type": "markdown",
   "id": "extraordinary-target",
   "metadata": {},
   "source": [
    "## Get bdry data and Critical Points"
   ]
  },
  {
   "cell_type": "code",
   "execution_count": 1,
   "id": "crazy-tanzania",
   "metadata": {},
   "outputs": [
    {
     "ename": "NotebookDirectory::nosv",
     "evalue": "The notebook NotebookObject[<<Messages>>] is not saved.",
     "output_type": "error",
     "traceback": [
      "\u001b[0;31mNotebookDirectory::nosv: The notebook NotebookObject[<<Messages>>] is not saved.\u001b[0m"
     ]
    },
    {
     "ename": "StringJoin::string",
     "evalue": "String expected at position 1 in $Failed<>Labels.wl.",
     "output_type": "error",
     "traceback": [
      "\u001b[0;31mStringJoin::string: String expected at position 1 in $Failed<>Labels.wl.\u001b[0m"
     ]
    },
    {
     "ename": "Get::stream",
     "evalue": "$Failed<>Labels.wl is not a string, SocketObject, InputStream[ ], or OutputStream[ ].",
     "output_type": "error",
     "traceback": [
      "\u001b[0;31mGet::stream: $Failed<>Labels.wl is not a string, SocketObject, InputStream[ ], or OutputStream[ ].\u001b[0m"
     ]
    }
   ],
   "source": [
    "Get[NotebookDirectory[] <> \"Labels.wl\"];"
   ]
  },
  {
   "cell_type": "code",
   "execution_count": null,
   "id": "affected-cache",
   "metadata": {},
   "outputs": [],
   "source": []
  }
 ],
 "metadata": {
  "kernelspec": {
   "display_name": "Wolfram Language 13",
   "language": "Wolfram Language",
   "name": "wolframlanguage13"
  },
  "language_info": {
   "codemirror_mode": "mathematica",
   "file_extension": ".m",
   "mimetype": "application/vnd.wolfram.m",
   "name": "Wolfram Language",
   "pygments_lexer": "mathematica",
   "version": "12.0"
  }
 },
 "nbformat": 4,
 "nbformat_minor": 5
}
